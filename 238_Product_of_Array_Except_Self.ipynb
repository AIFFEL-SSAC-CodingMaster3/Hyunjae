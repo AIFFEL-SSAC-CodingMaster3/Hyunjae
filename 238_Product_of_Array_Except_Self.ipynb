{
 "metadata": {
  "language_info": {
   "codemirror_mode": {
    "name": "ipython",
    "version": 3
   },
   "file_extension": ".py",
   "mimetype": "text/x-python",
   "name": "python",
   "nbconvert_exporter": "python",
   "pygments_lexer": "ipython3",
   "version": "3.7.9-final"
  },
  "orig_nbformat": 2,
  "kernelspec": {
   "name": "python3",
   "display_name": "Python 3",
   "language": "python"
  }
 },
 "nbformat": 4,
 "nbformat_minor": 2,
 "cells": [
  {
   "source": [
    "## 238. Product of Array Except Self \\[Medium\\] <br>\n",
    "\n",
    "\n",
    "Given an array nums of n integers where n > 1,  return an array output such that output[i] is equal to the product of all the elements of nums except nums\\[i\\]. <br><br>\n",
    "\n",
    "Example: <br><br>\n",
    "\n",
    "Input:  \\[1,2,3,4\\] <br>\n",
    "Output: \\[24,12,8,6\\] <br><br>\n",
    "\n",
    "Constraint: It's guaranteed that the product of the elements of any prefix or suffix of the array (including the whole array) fits in a 32 bit integer. <br><br>\n",
    "\n",
    "Note: Please solve it without division and in O(n). <br><br>\n",
    "\n",
    "Follow up: <br>\n",
    "Could you solve it with constant space complexity? (The output array does not count as extra space for the purpose of space complexity analysis.)\n",
    "\n",
    "<br>"
   ],
   "cell_type": "markdown",
   "metadata": {}
  },
  {
   "cell_type": "code",
   "execution_count": 10,
   "metadata": {},
   "outputs": [],
   "source": [
    "# Example\n",
    "\n",
    "nums = [1, 2, 3, 4]     # test case input\n",
    "sol = [24, 12, 8, 6]    # test case output"
   ]
  },
  {
   "cell_type": "code",
   "execution_count": 18,
   "metadata": {},
   "outputs": [
    {
     "output_type": "stream",
     "name": "stdout",
     "text": [
      "결과:  [24, 12, 8, 6]\n정답:  [24, 12, 8, 6]\n"
     ]
    },
    {
     "output_type": "execute_result",
     "data": {
      "text/plain": [
       "'\\nRuntime: 48 ms\\n공간복잡도: O(N^2)\\n시간복잡도: O(N^2)\\n'"
      ]
     },
     "metadata": {},
     "execution_count": 18
    }
   ],
   "source": [
    "\"\"\"\n",
    "sol_01\n",
    "\"\"\"\n",
    "\n",
    "class Solution:\n",
    "    def productExceptSelf(nums):\n",
    "        \n",
    "        answer = []\n",
    "\n",
    "        # nums 리스트 내 각 원소별로 자기자신을 제외한 새로운 리스트 생성 ... 공간복잡도가 O(N^2)이 됨!\n",
    "        for i in range(len(nums)):\n",
    "            list = nums[:i] + nums[i+1:]\n",
    "            \n",
    "            # 생성된 자기자신을 제외한 리스트의 모든 원소 for문 돌며 곱 ... 시간 복잡도도 O(N^2)이 됨!\n",
    "            result = 1\n",
    "            for j in list:\n",
    "                result *= j\n",
    "            answer.append(result)\n",
    "        \n",
    "        return answer\n",
    "\n",
    "print(\"결과: \", Solution.productExceptSelf(nums))\n",
    "print(\"정답: \", sol)\n",
    "\n",
    "\"\"\"\n",
    "Runtime: 32 ms\n",
    "공간복잡도: O(N^2)\n",
    "시간복잡도: O(N^2)\n",
    "\"\"\""
   ]
  },
  {
   "cell_type": "code",
   "execution_count": 20,
   "metadata": {},
   "outputs": [
    {
     "output_type": "stream",
     "name": "stdout",
     "text": [
      "결과:  [24, 12, 8, 6]\n정답:  [24, 12, 8, 6]\n"
     ]
    },
    {
     "output_type": "execute_result",
     "data": {
      "text/plain": [
       "'\\nRuntime: 48 ms\\n공간복잡도: O(N^2)\\n시간복잡도: O(N^2)\\n'"
      ]
     },
     "metadata": {},
     "execution_count": 20
    }
   ],
   "source": [
    "\"\"\"\n",
    "sol_02\n",
    "\"\"\"\n",
    "\n",
    "class Solution:\n",
    "    def productExceptSelf(nums):\n",
    "        \n",
    "        from functools import reduce\n",
    "\n",
    "        answer = []\n",
    "\n",
    "        # nums 리스트 내 각 원소별로 자기자신을 제외한 새로운 리스트 생성 ... 공간복잡도가 O(N^2)이 됨!\n",
    "        for i in range(len(nums)):\n",
    "            list = nums[:i] + nums[i+1:]\n",
    "            \n",
    "            # 파이썬 내장함수 reduce를 이용해 리스트내 원소 누적연산 ... 시간 복잡도도 O(N^2)이 됨!\n",
    "            result = reduce(lambda x, y: x * y, list)\n",
    "            answer.append(result)\n",
    "        \n",
    "        return answer\n",
    "\n",
    "print(\"결과: \", Solution.productExceptSelf(nums))\n",
    "print(\"정답: \", sol)\n",
    "\n",
    "\"\"\"\n",
    "Runtime: 36 ms\n",
    "공간복잡도: O(N^2)\n",
    "시간복잡도: O(N^2)\n",
    "\"\"\""
   ]
  },
  {
   "cell_type": "code",
   "execution_count": 23,
   "metadata": {},
   "outputs": [
    {
     "output_type": "stream",
     "name": "stdout",
     "text": [
      "결과:  [24, 12, 8, 6]\n정답:  [24, 12, 8, 6]\n"
     ]
    },
    {
     "output_type": "execute_result",
     "data": {
      "text/plain": [
       "'\\nRuntime: 36 ms\\n'"
      ]
     },
     "metadata": {},
     "execution_count": 23
    }
   ],
   "source": [
    "\"\"\"\n",
    "sol_by_book\n",
    "\"\"\"\n",
    "\n",
    "class Solution:\n",
    "    def productExceptSelf(nums):\n",
    "\n",
    "        # 나눗셈 연산 없이, O(n)의 시간복잡도로 풀어야 한다\n",
    "        # = \"자기 자신을 제외한 왼쪽의 곱셈 결과 * 오른쪽 곱셈 결과\" 형태로 값을 구해야 한다.\n",
    "        # [1,2,3,4] 예시\n",
    "        \n",
    "        # 1. 왼쪽 곱셈 결과값 구하기.\n",
    "        # 왼쪽 첫 번째 숫자는 곱한 값이 없어야 하므로 시작값을 1로 초기화한다.\n",
    "        n = 1\n",
    "        left, right = [], []\n",
    "        for i in range(len(nums)):\n",
    "            left.append(n)\n",
    "            n *= nums[i]\n",
    "        # [곱하지 않은 값, 1번째, 1*2번째, 1*2*3번째] 값이 left에 저장된다.\n",
    "        \n",
    "        n = 1\n",
    "        for i in range(len(nums)-1, -1, -1):\n",
    "            right.append(n)\n",
    "            n *= nums[i]\n",
    "        right.reverse()\n",
    "        # [2*3*4번째, 3*4번째, 4번째, 곱하지 않은 값] 값이 right에 저장된다.\n",
    "        \n",
    "        # left idx값에 right의 idx값을 곱하면 원하는 결과를 얻을 수 있다.\n",
    "        for idx in range(len(nums)):\n",
    "            left[idx] = left[idx] * right[idx]\n",
    "        \n",
    "        return left\n",
    "\n",
    "print(\"결과: \", Solution.productExceptSelf(nums))\n",
    "print(\"정답: \", sol)\n",
    "\n",
    "\"\"\"\n",
    "Runtime: 36 ms\n",
    "\"\"\""
   ]
  }
 ]
}